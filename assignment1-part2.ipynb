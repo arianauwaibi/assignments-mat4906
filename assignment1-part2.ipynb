{
 "cells": [
  {
   "cell_type": "markdown",
   "metadata": {},
   "source": [
    "## Matrix Computation ##"
   ]
  },
  {
   "cell_type": "code",
   "execution_count": 2,
   "metadata": {},
   "outputs": [],
   "source": [
    "import numpy as np"
   ]
  },
  {
   "cell_type": "markdown",
   "metadata": {},
   "source": [
    "**Problem 1**\n",
    "\n",
    "Multiply the following matrices"
   ]
  },
  {
   "cell_type": "code",
   "execution_count": 4,
   "metadata": {},
   "outputs": [
    {
     "name": "stdout",
     "output_type": "stream",
     "text": [
      "[[  2 -14   8]\n",
      " [  2   5   3]]\n",
      "(2, 3)\n",
      "[[ 8  5  1]\n",
      " [ 6 10 -3]]\n",
      "(2, 3)\n"
     ]
    }
   ],
   "source": [
    "# Create the matrices using Numpy arrays\n",
    "\n",
    "A= np.array([[2,-14,8],[2,5,3]])\n",
    "print(A)\n",
    "print(A.shape)\n",
    "\n",
    "B = np. array([[8,5,1],[6,10,-3]])\n",
    "print(B)\n",
    "print(B.shape)"
   ]
  },
  {
   "cell_type": "code",
   "execution_count": 13,
   "metadata": {},
   "outputs": [
    {
     "name": "stdout",
     "output_type": "stream",
     "text": [
      "[[ 16 -70   8]\n",
      " [ 12  50  -9]]\n"
     ]
    }
   ],
   "source": [
    "# Compute the required operation (Multiplication) piecewise and print solution\n",
    "\n",
    "sol = A.__mul__(B)\n",
    "print(sol)"
   ]
  },
  {
   "cell_type": "code",
   "execution_count": 15,
   "metadata": {},
   "outputs": [
    {
     "name": "stdout",
     "output_type": "stream",
     "text": [
      "[[  2 -14   8]\n",
      " [  2   5   3]]\n",
      "[[ 8  6]\n",
      " [ 5 10]\n",
      " [ 1 -3]]\n",
      "[[ -46 -152]\n",
      " [  44   53]]\n"
     ]
    }
   ],
   "source": [
    "#Multiply matrices using Transpose Operation\n",
    "\n",
    "BT = np.transpose(B)\n",
    "print(A)\n",
    "print(BT)\n",
    "\n",
    "sol2 = A.__matmul__(BT)\n",
    "print(sol2)"
   ]
  },
  {
   "cell_type": "markdown",
   "metadata": {},
   "source": [
    "### Problem 2 \n",
    "\n"
   ]
  },
  {
   "cell_type": "code",
   "execution_count": 21,
   "metadata": {},
   "outputs": [
    {
     "name": "stdout",
     "output_type": "stream",
     "text": [
      "-2\n",
      "[[ -5   2   4]\n",
      " [  6  10  -3]\n",
      " [-12   7  -2]]\n",
      "[[ 10  -4  -8]\n",
      " [-12 -20   6]\n",
      " [ 24 -14   4]]\n"
     ]
    }
   ],
   "source": [
    "#The Scalar product of a constant and matrix\n",
    "lambda_value = -2\n",
    "C = np.array([[-5,2,4],[6,10,-3],[-12,7,-2]])\n",
    "print(lambda_value)\n",
    "print(C)\n",
    "\n",
    "scalar_product = lambda_value*C\n",
    "print(scalar_product)"
   ]
  },
  {
   "cell_type": "markdown",
   "metadata": {},
   "source": [
    "### Problem 3\n",
    "\n",
    "Find the determinant of the following matrices\n"
   ]
  },
  {
   "cell_type": "code",
   "execution_count": 16,
   "metadata": {},
   "outputs": [
    {
     "name": "stdout",
     "output_type": "stream",
     "text": [
      "[[  2 -14   8]\n",
      " [  2   5   3]\n",
      " [  5  10   6]]\n",
      "[[ 8  5  7  9]\n",
      " [-2 12  6  6]\n",
      " [ 7 15  2  3]\n",
      " [ 5 -7  1  4]]\n"
     ]
    }
   ],
   "source": [
    "#Define the matrices\n",
    "\n",
    "E = np.array([[2,-14,8],[2,5,3],[5,10,6]])\n",
    "print(E)\n",
    "\n",
    "F = np.array([[8,5,7,9],[-2,12,6,6],[7,15,2,3],[5,-7,1,4]])\n",
    "print(F)\n",
    "\n"
   ]
  },
  {
   "cell_type": "code",
   "execution_count": 17,
   "metadata": {},
   "outputs": [
    {
     "name": "stdout",
     "output_type": "stream",
     "text": [
      "-81.99999999999994\n",
      "-2026.0\n"
     ]
    }
   ],
   "source": [
    "# Find the determinant\n",
    "\n",
    "det_E = np.linalg.det(E)\n",
    "print(det_E)\n",
    "det_F = np.linalg.det(F)\n",
    "print(det_F)"
   ]
  }
 ],
 "metadata": {
  "interpreter": {
   "hash": "aee8b7b246df8f9039afb4144a1f6fd8d2ca17a180786b69acc140d282b71a49"
  },
  "kernelspec": {
   "display_name": "Python 3.10.1 64-bit",
   "language": "python",
   "name": "python3"
  },
  "language_info": {
   "codemirror_mode": {
    "name": "ipython",
    "version": 3
   },
   "file_extension": ".py",
   "mimetype": "text/x-python",
   "name": "python",
   "nbconvert_exporter": "python",
   "pygments_lexer": "ipython3",
   "version": "3.10.1"
  },
  "orig_nbformat": 4
 },
 "nbformat": 4,
 "nbformat_minor": 2
}
