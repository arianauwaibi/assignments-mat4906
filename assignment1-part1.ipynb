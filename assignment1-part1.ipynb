{
 "cells": [
  {
   "cell_type": "code",
   "execution_count": 1,
   "metadata": {},
   "outputs": [],
   "source": [
    "import numpy as np"
   ]
  },
  {
   "cell_type": "markdown",
   "metadata": {},
   "source": [
    "### Problem 1\n",
    "\n",
    "12x + 3y = 162\n",
    "\n",
    "8x + 3y = 122"
   ]
  },
  {
   "cell_type": "code",
   "execution_count": 11,
   "metadata": {},
   "outputs": [],
   "source": [
    "# Create the matrices using Numpy arrays \n",
    "\n",
    "a = np.array([[12,3],[8,3]])\n",
    "b = np.array([[162],[122]])\n"
   ]
  },
  {
   "cell_type": "code",
   "execution_count": 12,
   "metadata": {},
   "outputs": [
    {
     "name": "stdout",
     "output_type": "stream",
     "text": [
      "dim. of matrix a= (2, 2)\n",
      "dim. of right hand vector b= (2, 1)\n"
     ]
    }
   ],
   "source": [
    "#Verify the size of the matrices and right hand-side vector\n",
    "\n",
    "print('dim. of matrix a=', a.shape)\n",
    "print('dim. of right hand vector b=', b.shape)"
   ]
  },
  {
   "cell_type": "code",
   "execution_count": 14,
   "metadata": {},
   "outputs": [
    {
     "name": "stdout",
     "output_type": "stream",
     "text": [
      "[[ 0.25       -0.25      ]\n",
      " [-0.66666667  1.        ]]\n"
     ]
    }
   ],
   "source": [
    "# Verify that a is invertible using its determinant\n",
    "\n",
    "np.linalg.det(a)\n",
    "\n",
    "#Inverse of the Matrix \n",
    "\n",
    "inv_a = np.linalg.inv(a)\n",
    "print(inv_a)"
   ]
  },
  {
   "cell_type": "code",
   "execution_count": 15,
   "metadata": {},
   "outputs": [
    {
     "name": "stdout",
     "output_type": "stream",
     "text": [
      "[[10.]\n",
      " [14.]]\n"
     ]
    }
   ],
   "source": [
    "# Solve the system using the method \"dot\"\n",
    "\n",
    "sol = inv_a.dot(b)\n",
    "print(sol)\n"
   ]
  },
  {
   "cell_type": "code",
   "execution_count": 20,
   "metadata": {},
   "outputs": [
    {
     "data": {
      "text/plain": [
       "162"
      ]
     },
     "execution_count": 20,
     "metadata": {},
     "output_type": "execute_result"
    }
   ],
   "source": [
    "#Confirm answer\n",
    "\n",
    "12*10 + 3*14 \n"
   ]
  },
  {
   "cell_type": "code",
   "execution_count": 21,
   "metadata": {},
   "outputs": [
    {
     "data": {
      "text/plain": [
       "122"
      ]
     },
     "execution_count": 21,
     "metadata": {},
     "output_type": "execute_result"
    }
   ],
   "source": [
    "#Confirm answer\n",
    "\n",
    "8*10 + 3*14"
   ]
  },
  {
   "cell_type": "markdown",
   "metadata": {},
   "source": [
    "### Problem 2\n",
    "\n",
    "x + y = 6\n",
    "\n",
    "6x + 3y = 30"
   ]
  },
  {
   "cell_type": "code",
   "execution_count": 23,
   "metadata": {},
   "outputs": [],
   "source": [
    "# Create the matrices using Numpy arrays \n",
    "\n",
    "c = np.array([[1,1],[6,3]])\n",
    "d = np.array([[6],[30]])"
   ]
  },
  {
   "cell_type": "code",
   "execution_count": 24,
   "metadata": {},
   "outputs": [
    {
     "name": "stdout",
     "output_type": "stream",
     "text": [
      "dim of matrix c = (2, 2)\n",
      "dim of vector d = (2, 1)\n"
     ]
    }
   ],
   "source": [
    "#Verify the size of the matrices and right hand-side vector\n",
    "\n",
    "print('dim of matrix c =', c.shape)\n",
    "print('dim of vector d =', d.shape)"
   ]
  },
  {
   "cell_type": "code",
   "execution_count": 27,
   "metadata": {},
   "outputs": [
    {
     "name": "stdout",
     "output_type": "stream",
     "text": [
      "[[-1.          0.33333333]\n",
      " [ 2.         -0.33333333]]\n"
     ]
    }
   ],
   "source": [
    "# Verify that a is invertible using its determinant\n",
    "\n",
    "np.linalg.det(c)\n",
    "\n",
    "#Inverse of the Matrix\n",
    "\n",
    "inv_c = np.linalg.inv(c)\n",
    "print(inv_c)\n"
   ]
  },
  {
   "cell_type": "code",
   "execution_count": 28,
   "metadata": {},
   "outputs": [
    {
     "name": "stdout",
     "output_type": "stream",
     "text": [
      "[[4.]\n",
      " [2.]]\n"
     ]
    }
   ],
   "source": [
    "# Solve the system using the method \"dot\"\n",
    "\n",
    "sol2 = inv_c.dot(d)\n",
    "print(sol2)"
   ]
  },
  {
   "cell_type": "markdown",
   "metadata": {},
   "source": [
    "### Problem 3\n",
    "\n",
    "x + y + z = 12,000\n",
    "\n",
    "-y + z = 4,000\n",
    "\n",
    "0.03x + 0.04y + 0.07z = 670"
   ]
  },
  {
   "cell_type": "code",
   "execution_count": 37,
   "metadata": {},
   "outputs": [],
   "source": [
    "# Create the matrices using Numpy arrays \n",
    "\n",
    "e = np.array([[1,1,1],[0,-1,2],[0.03,0.04,0.07]])\n",
    "f = np.array([[12000],[4000],[670]])"
   ]
  },
  {
   "cell_type": "code",
   "execution_count": 38,
   "metadata": {},
   "outputs": [
    {
     "name": "stdout",
     "output_type": "stream",
     "text": [
      "Dim of matrix e = (3, 3)\n",
      "Dim of vector f = (3, 1)\n"
     ]
    }
   ],
   "source": [
    "#Verify the size of the matrices and right hand-side vector\n",
    "\n",
    "print('Dim of matrix e =', e.shape)\n",
    "print('Dim of vector f =', f.shape)"
   ]
  },
  {
   "cell_type": "code",
   "execution_count": 42,
   "metadata": {},
   "outputs": [
    {
     "name": "stdout",
     "output_type": "stream",
     "text": [
      "[[  2.5          0.5        -50.        ]\n",
      " [ -1.          -0.66666667  33.33333333]\n",
      " [ -0.5          0.16666667  16.66666667]]\n"
     ]
    }
   ],
   "source": [
    "# Verify that a is invertible using its determinant\n",
    "\n",
    "np.linalg.det(e)\n",
    "\n",
    "#Inverse of the Matrix\n",
    "\n",
    "inv_e = np.linalg.inv(e)\n",
    "print(inv_e)\n"
   ]
  },
  {
   "cell_type": "code",
   "execution_count": 43,
   "metadata": {},
   "outputs": [
    {
     "name": "stdout",
     "output_type": "stream",
     "text": [
      "[[-1500.        ]\n",
      " [ 7666.66666667]\n",
      " [ 5833.33333333]]\n"
     ]
    }
   ],
   "source": [
    "# Solve the system using the method \"dot\"\n",
    "\n",
    "sol3 = inv_e.dot(f)\n",
    "print(sol3)"
   ]
  },
  {
   "cell_type": "code",
   "execution_count": 48,
   "metadata": {},
   "outputs": [
    {
     "data": {
      "text/plain": [
       "669.9999999999001"
      ]
     },
     "execution_count": 48,
     "metadata": {},
     "output_type": "execute_result"
    }
   ],
   "source": [
    "#Confirm Answer\n",
    "\n",
    "-1500 + 7666.66666667 + 5833.33333333\n",
    "\n",
    "(0.03*-1500) + (0.04*7666.66666667) + (0.07*5833.33333333)"
   ]
  }
 ],
 "metadata": {
  "interpreter": {
   "hash": "aee8b7b246df8f9039afb4144a1f6fd8d2ca17a180786b69acc140d282b71a49"
  },
  "kernelspec": {
   "display_name": "Python 3.10.1 64-bit",
   "language": "python",
   "name": "python3"
  },
  "language_info": {
   "codemirror_mode": {
    "name": "ipython",
    "version": 3
   },
   "file_extension": ".py",
   "mimetype": "text/x-python",
   "name": "python",
   "nbconvert_exporter": "python",
   "pygments_lexer": "ipython3",
   "version": "3.10.1"
  },
  "orig_nbformat": 4
 },
 "nbformat": 4,
 "nbformat_minor": 2
}
